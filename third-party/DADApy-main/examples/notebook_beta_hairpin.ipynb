{
 "cells": [
  {
   "cell_type": "markdown",
   "id": "cb9be05d",
   "metadata": {},
   "source": [
    "# Tutorial: Using DADApy to analyse a molecular dynamics trajectory of a small peptide"
   ]
  },
  {
   "cell_type": "markdown",
   "id": "894a975f",
   "metadata": {},
   "source": [
    "In this notebook we use DADApy to analyse a dataset consisting of an enhanced molecular dynamics trajectory of a small protein with a beta-hairpin structure (CLN025).\n",
    "The analyses carried out here are analogous to those described in the article *DADApy: Distance-based Analysis of DAta-manifolds in Python*, available at https://arxiv.org/abs/2205.03373."
   ]
  },
  {
   "cell_type": "code",
   "execution_count": 1,
   "id": "014bbeac",
   "metadata": {
    "tags": []
   },
   "outputs": [],
   "source": [
    "# import the necessary modules\n",
    "from dadapy import Data\n",
    "from dadapy import plot as pl\n",
    "import numpy as np\n",
    "import matplotlib.pyplot as plt\n",
    "import seaborn as sns\n",
    "sns.set_style(\"ticks\")\n",
    "sns.set_context(\"notebook\")\n",
    "\n",
    "from urllib.request import urlretrieve\n",
    "data_url_dihedrals =\"https://figshare.com/ndownloader/files/36359700\"\n",
    "path_dihedrals = \"./cln025traj_dihedrals_decimated_equilibrated.npy\"\n",
    "data_url_distances =\"https://figshare.com/ndownloader/files/36359697\"\n",
    "path_distances = \"./cln025traj_distances_decimated_equilibrated.npy\""
   ]
  },
  {
   "cell_type": "markdown",
   "id": "1008fb15",
   "metadata": {
    "tags": []
   },
   "source": [
    "## Analysing the trajectory using selected dihedral angles"
   ]
  },
  {
   "cell_type": "markdown",
   "id": "9402f01f",
   "metadata": {},
   "source": [
    "In this first part of tha analysis we use a compact data representation given by 15 dihedral angles selected as the most informative out of all 32 dihedral angles of the protein."
   ]
  },
  {
   "cell_type": "code",
   "execution_count": 2,
   "id": "1ee9efde",
   "metadata": {},
   "outputs": [
    {
     "data": {
      "text/plain": [
       "('./cln025traj_dihedrals_decimated_equilibrated.npy',\n",
       " <http.client.HTTPMessage at 0x7f91b1d12880>)"
      ]
     },
     "execution_count": 2,
     "metadata": {},
     "output_type": "execute_result"
    }
   ],
   "source": [
    "#download dihedral representation data from Figshare\n",
    "urlretrieve(data_url_dihedrals, path_dihedrals)"
   ]
  },
  {
   "cell_type": "code",
   "execution_count": 3,
   "id": "b9237f7c",
   "metadata": {},
   "outputs": [],
   "source": [
    "all_dihedrals = np.load(path_dihedrals)\n",
    "# dihedral names in order:\n",
    "# phi1 phi2 phi3 phi4 phi5 phi6 phi7 phi8 phi9 \n",
    "# psi1 psi2 psi3 psi4 psi5 psi6 psi7 psi8 psi9 \n",
    "# chi1_1 chi1_2 chi1_3 chi1_5 chi1_6 chi1_8 chi1_9 chi1_10 \n",
    "# chi2_1 chi2_2 chi2_3 chi2_5 chi2_9 chi2_10"
   ]
  },
  {
   "cell_type": "code",
   "execution_count": 4,
   "id": "114637b5",
   "metadata": {},
   "outputs": [
    {
     "name": "stdout",
     "output_type": "stream",
     "text": [
      "(3758, 15)\n"
     ]
    }
   ],
   "source": [
    "# we then select a subset of 15 dihedrals identified as the most informative \n",
    "# using the information imbalance greedy optimisation of (Glielmo et al., PNAS Nexus, 2022)\n",
    "# the final dataset is described by only 15 features\n",
    "coords_from_information_imbalance = [1, 4, 5, 7, 10, 12, 13, 14, 15, 16, 17, 18, 19, 24, 25]\n",
    "selected_dihedrals = all_dihedrals[:, coords_from_information_imbalance]\n",
    "\n",
    "print(selected_dihedrals.shape)"
   ]
  },
  {
   "cell_type": "markdown",
   "id": "062d9321",
   "metadata": {
    "tags": []
   },
   "source": [
    "### Using DADApy"
   ]
  },
  {
   "cell_type": "code",
   "execution_count": 5,
   "id": "d7902865",
   "metadata": {},
   "outputs": [
    {
     "data": {
      "text/plain": [
       "(7.626068770614549, 0.0, 1.5196095123677547)"
      ]
     },
     "execution_count": 5,
     "metadata": {},
     "output_type": "execute_result"
    }
   ],
   "source": [
    "# initialise a Data object\n",
    "d_dihedrals = Data(selected_dihedrals+np.pi, verbose=False)\n",
    "# compute distances by setting the correct period\n",
    "d_dihedrals.compute_distances(maxk=min(selected_dihedrals.shape[0]-1, 10000), period=2.*np.pi)\n",
    "# estimate the intrinsic dimension\n",
    "d_dihedrals.compute_id_2NN()"
   ]
  },
  {
   "cell_type": "code",
   "execution_count": 6,
   "id": "4f3461db",
   "metadata": {
    "tags": []
   },
   "outputs": [],
   "source": [
    "# ID scaling analysig using two different methods\n",
    "ids_2nn, errs_2nn, scales_2nn = d_dihedrals.return_id_scaling_2NN()\n",
    "ids_gride, errs_gride, scales_gride = d_dihedrals.return_id_scaling_gride(range_max=1024)"
   ]
  },
  {
   "cell_type": "code",
   "execution_count": 7,
   "id": "a1d6f683",
   "metadata": {},
   "outputs": [
    {
     "data": {
      "image/png": "[encoded data removed]",
      "text/plain": [
       "<Figure size 432x288 with 1 Axes>"
      ]
     },
     "metadata": {
      "needs_background": "light"
     },
     "output_type": "display_data"
    }
   ],
   "source": [
    "col = 'darkorange'\n",
    "plt.plot(scales_2nn, ids_2nn, alpha=0.85)\n",
    "plt.errorbar(scales_2nn, ids_2nn, errs_2nn, fmt='None')\n",
    "plt.scatter(scales_2nn, ids_2nn, edgecolors='k',s=50,label='2nn decimation')\n",
    "plt.plot(scales_gride, ids_gride, alpha=0.85, color=col)\n",
    "plt.errorbar(scales_gride, ids_gride, errs_gride, fmt='None',color=col)\n",
    "plt.scatter(scales_gride, ids_gride, edgecolors='k',color=col,s=50,label='2nn gride')\n",
    "plt.xlabel(r'Scale',size=15)\n",
    "plt.ylabel('Estimated ID',size=15)\n",
    "plt.xticks(size=15)\n",
    "plt.yticks(size=15)\n",
    "plt.legend(frameon=False,fontsize=14)\n",
    "plt.tight_layout()"
   ]
  },
  {
   "cell_type": "code",
   "execution_count": 8,
   "id": "4e84c49e",
   "metadata": {},
   "outputs": [
    {
     "data": {
      "text/plain": [
       "(array([-13.4 , -17.32,  -7.46, ..., -10.54,  -6.94, -11.01]),\n",
       " array([0.42, 0.42, 0.54, ..., 0.4 , 0.54, 0.44]))"
      ]
     },
     "execution_count": 8,
     "metadata": {},
     "output_type": "execute_result"
    }
   ],
   "source": [
    "# estimate density via PAk\n",
    "d_dihedrals.set_id(7.)\n",
    "d_dihedrals.compute_density_PAk()"
   ]
  },
  {
   "cell_type": "code",
   "execution_count": 9,
   "id": "17fcb094",
   "metadata": {
    "tags": []
   },
   "outputs": [
    {
     "name": "stdout",
     "output_type": "stream",
     "text": [
      "3758\n",
      "3\n"
     ]
    }
   ],
   "source": [
    "# cluster data via Advanced Density Peak\n",
    "d_dihedrals.compute_clustering_ADP(Z=4.5,halo=False);\n",
    "n_clusters = len(d_dihedrals.cluster_centers)\n",
    "print(n_clusters)"
   ]
  },
  {
   "cell_type": "code",
   "execution_count": 10,
   "id": "ec7e8f5b",
   "metadata": {},
   "outputs": [
    {
     "data": {
      "image/png": "[encoded data removed]",
      "text/plain": [
       "<Figure size 432x288 with 1 Axes>"
      ]
     },
     "metadata": {
      "needs_background": "light"
     },
     "output_type": "display_data"
    }
   ],
   "source": [
    "pl.get_dendrogram(d_dihedrals, cmap='Set2', logscale=False)"
   ]
  },
  {
   "cell_type": "code",
   "execution_count": 11,
   "id": "2db5249f",
   "metadata": {
    "tags": []
   },
   "outputs": [
    {
     "data": {
      "text/plain": [
       "[2516, 3, 1239]"
      ]
     },
     "execution_count": 11,
     "metadata": {},
     "output_type": "execute_result"
    }
   ],
   "source": [
    "# Cluster populations\n",
    "populations = [ len(el) for r_,el in enumerate(d_dihedrals.cluster_indices)]\n",
    "populations"
   ]
  },
  {
   "cell_type": "code",
   "execution_count": 12,
   "id": "169e9096",
   "metadata": {
    "tags": []
   },
   "outputs": [
    {
     "data": {
      "text/plain": [
       "[1675, 2306, 3349]"
      ]
     },
     "execution_count": 12,
     "metadata": {},
     "output_type": "execute_result"
    }
   ],
   "source": [
    "# Cluster centers. In the original trajecotory these frames are given by (center + 400) * 10\n",
    "d_dihedrals.cluster_centers"
   ]
  },
  {
   "cell_type": "markdown",
   "id": "78088d13",
   "metadata": {},
   "source": [
    "## Analysing the trajectory using all heavy atom distances"
   ]
  },
  {
   "cell_type": "markdown",
   "id": "6ea01632",
   "metadata": {},
   "source": [
    "In this second part of tha analysis we use an alternative data representation consisting of the 4278 distances between the heavy atoms of the protein."
   ]
  },
  {
   "cell_type": "code",
   "execution_count": 13,
   "id": "b9da1767",
   "metadata": {},
   "outputs": [
    {
     "data": {
      "text/plain": [
       "('./cln025traj_distances_decimated_equilibrated.npy',\n",
       " <http.client.HTTPMessage at 0x7f919ada8ca0>)"
      ]
     },
     "execution_count": 13,
     "metadata": {},
     "output_type": "execute_result"
    }
   ],
   "source": [
    "# download distance representation data from Figshare, this can take 1-2 minutes\n",
    "urlretrieve(data_url_distances, path_distances)"
   ]
  },
  {
   "cell_type": "code",
   "execution_count": 14,
   "id": "35122134",
   "metadata": {},
   "outputs": [],
   "source": [
    "heavy_atom_distances = np.load(path_distances)"
   ]
  },
  {
   "cell_type": "code",
   "execution_count": 15,
   "id": "29849ffa",
   "metadata": {},
   "outputs": [
    {
     "name": "stdout",
     "output_type": "stream",
     "text": [
      "(3758, 4278)\n"
     ]
    }
   ],
   "source": [
    "print(heavy_atom_distances.shape)"
   ]
  },
  {
   "cell_type": "markdown",
   "id": "a21678e4",
   "metadata": {},
   "source": [
    "### Using DADApy"
   ]
  },
  {
   "cell_type": "code",
   "execution_count": 16,
   "id": "534f1ffd",
   "metadata": {},
   "outputs": [
    {
     "data": {
      "text/plain": [
       "(11.187504094865009, 0.0, 6.887884809073795)"
      ]
     },
     "execution_count": 16,
     "metadata": {},
     "output_type": "execute_result"
    }
   ],
   "source": [
    "d_distances = Data(heavy_atom_distances,verbose=False)\n",
    "d_distances.compute_distances(maxk=min(heavy_atom_distances.shape[0]-1,10000))\n",
    "d_distances.compute_id_2NN()"
   ]
  },
  {
   "cell_type": "code",
   "execution_count": 17,
   "id": "76061467",
   "metadata": {},
   "outputs": [],
   "source": [
    "# ID scaling analysig using two different methods\n",
    "ids_2nn, errs_2nn, scales_2nn = d_distances.return_id_scaling_2NN()\n",
    "ids_gride, errs_gride, scales_gride = d_distances.return_id_scaling_gride(range_max=1024)"
   ]
  },
  {
   "cell_type": "code",
   "execution_count": 18,
   "id": "827ff69e",
   "metadata": {},
   "outputs": [
    {
     "data": {
      "image/png": "[encoded data removed]",
      "text/plain": [
       "<Figure size 432x288 with 1 Axes>"
      ]
     },
     "metadata": {
      "needs_background": "light"
     },
     "output_type": "display_data"
    }
   ],
   "source": [
    "col = 'darkorange'\n",
    "plt.plot(scales_2nn, ids_2nn, alpha=0.85)\n",
    "plt.errorbar(scales_2nn, ids_2nn, errs_2nn, fmt='None')\n",
    "plt.scatter(scales_2nn, ids_2nn, edgecolors='k',s=50,label='2nn decimation')\n",
    "plt.plot(scales_gride, ids_gride, alpha=0.85, color=col)\n",
    "plt.errorbar(scales_gride, ids_gride, errs_gride, fmt='None',color=col)\n",
    "plt.scatter(scales_gride, ids_gride, edgecolors='k',color=col,s=50,label='2nn gride')\n",
    "plt.xlabel(r'Scale',size=15)\n",
    "plt.ylabel('Estimated ID',size=15)\n",
    "plt.xticks(size=15)\n",
    "plt.yticks(size=15)\n",
    "plt.legend(frameon=False,fontsize=14)\n",
    "plt.tight_layout()"
   ]
  },
  {
   "cell_type": "code",
   "execution_count": 19,
   "id": "3bccf2aa",
   "metadata": {},
   "outputs": [
    {
     "name": "stdout",
     "output_type": "stream",
     "text": [
      "3758\n",
      "3\n"
     ]
    }
   ],
   "source": [
    "# estimate density via PAk\n",
    "d_distances.set_id(9.)\n",
    "d_distances.compute_density_PAk()\n",
    "# cluster data via Advanced Density Peak\n",
    "d_distances.compute_clustering_ADP(Z=3.5,halo=False);\n",
    "n_clusters = len(d_dihedrals.cluster_centers)\n",
    "print(n_clusters)"
   ]
  },
  {
   "cell_type": "code",
   "execution_count": 20,
   "id": "b0d8e8e8",
   "metadata": {
    "scrolled": true
   },
   "outputs": [
    {
     "data": {
      "image/png": "[encoded data removed]",
      "text/plain": [
       "<Figure size 432x288 with 1 Axes>"
      ]
     },
     "metadata": {
      "needs_background": "light"
     },
     "output_type": "display_data"
    }
   ],
   "source": [
    "pl.get_dendrogram(d_distances, cmap='Set2', logscale=False)"
   ]
  },
  {
   "cell_type": "code",
   "execution_count": 21,
   "id": "b8b3e153",
   "metadata": {},
   "outputs": [
    {
     "data": {
      "text/plain": [
       "[2291, 1460, 7]"
      ]
     },
     "execution_count": 21,
     "metadata": {},
     "output_type": "execute_result"
    }
   ],
   "source": [
    "# Cluster populations\n",
    "populations = [ len(el) for r_,el in enumerate(d_distances.cluster_indices)]\n",
    "populations"
   ]
  },
  {
   "cell_type": "code",
   "execution_count": 22,
   "id": "5cfa93c7",
   "metadata": {},
   "outputs": [
    {
     "data": {
      "text/plain": [
       "[506, 1415, 3333]"
      ]
     },
     "execution_count": 22,
     "metadata": {},
     "output_type": "execute_result"
    }
   ],
   "source": [
    "# Cluster centers: In original trajecotory: (center + 400) * 10\n",
    "d_distances.cluster_centers"
   ]
  },
  {
   "cell_type": "markdown",
   "id": "2d73bd50",
   "metadata": {},
   "source": [
    "## Check equivalence of the two data descriptions"
   ]
  },
  {
   "cell_type": "markdown",
   "id": "5c8e61cc",
   "metadata": {},
   "source": [
    "Notably the dendrograms obtained with the two alternative data descriptions are very similar. \n",
    "\n",
    "They both consist of a very small cluster (depicted on the left of the dendrograms) and two large clusters (on the right).\n",
    "\n",
    "The specific numbers defining the clusters are irrelevant, and exploiting this invariance we can transform the second cluster assignment to match the the first by exchanging the 1s with the 2s."
   ]
  },
  {
   "cell_type": "code",
   "execution_count": 23,
   "id": "84f8d989",
   "metadata": {},
   "outputs": [
    {
     "data": {
      "text/plain": [
       "0.5851516764236296"
      ]
     },
     "execution_count": 23,
     "metadata": {},
     "output_type": "execute_result"
    }
   ],
   "source": [
    "# number of elements in common before permutation\n",
    "sum(d_distances.cluster_assignment == d_dihedrals.cluster_assignment)/d_dihedrals.N"
   ]
  },
  {
   "cell_type": "code",
   "execution_count": 24,
   "id": "b1622a44",
   "metadata": {},
   "outputs": [],
   "source": [
    "# permutation of cluster assignment: 2 -> 1 and 1 -> 2\n",
    "distances_cluster_assignments_2 = np.copy(d_distances.cluster_assignment)\n",
    "\n",
    "ones = np.where(d_distances.cluster_assignment == 1)\n",
    "twos = np.where(d_distances.cluster_assignment == 2)\n",
    "\n",
    "distances_cluster_assignments_2[ones] = 2\n",
    "distances_cluster_assignments_2[twos] = 1"
   ]
  },
  {
   "cell_type": "code",
   "execution_count": 25,
   "id": "ef8a4146",
   "metadata": {},
   "outputs": [
    {
     "data": {
      "text/plain": [
       "0.8879723257051623"
      ]
     },
     "execution_count": 25,
     "metadata": {},
     "output_type": "execute_result"
    }
   ],
   "source": [
    "# number of elements in common after permutation\n",
    "sum(distances_cluster_assignments_2 == d_dihedrals.cluster_assignment)/d_dihedrals.N"
   ]
  },
  {
   "cell_type": "markdown",
   "id": "f32d62d2",
   "metadata": {},
   "source": [
    "Remarkably, the 4278-dimensional representation based on distances and the 15-dimensional representation based on dihedrals provide very similar results. Nearly 90% of the data falls under the same cluster assignment independently of the data representation!"
   ]
  },
  {
   "cell_type": "code",
   "execution_count": null,
   "id": "a1c7a59f",
   "metadata": {},
   "outputs": [],
   "source": []
  }
 ],
 "metadata": {
  "kernelspec": {
   "display_name": "Python 3 (ipykernel)",
   "language": "python",
   "name": "python3"
  },
  "language_info": {
   "codemirror_mode": {
    "name": "ipython",
    "version": 3
   },
   "file_extension": ".py",
   "mimetype": "text/x-python",
   "name": "python",
   "nbconvert_exporter": "python",
   "pygments_lexer": "ipython3",
   "version": "3.8.12"
  },
  "toc": {
   "base_numbering": 1,
   "nav_menu": {},
   "number_sections": true,
   "sideBar": true,
   "skip_h1_title": false,
   "title_cell": "Table of Contents",
   "title_sidebar": "Contents",
   "toc_cell": false,
   "toc_position": {},
   "toc_section_display": true,
   "toc_window_display": false
  }
 },
 "nbformat": 4,
 "nbformat_minor": 5
}
